{
  "nbformat": 4,
  "nbformat_minor": 0,
  "metadata": {
    "colab": {
      "provenance": []
    },
    "kernelspec": {
      "name": "python3",
      "display_name": "Python 3"
    },
    "language_info": {
      "name": "python"
    }
  },
  "cells": [
    {
      "cell_type": "markdown",
      "source": [
        "Este script depende do script anterior **image-classification-train.py**, onde todos os imports e as definições preliminares estão alocadas."
      ],
      "metadata": {
        "id": "yrKHNxXclRts"
      }
    },
    {
      "cell_type": "code",
      "execution_count": null,
      "metadata": {
        "id": "OiXl8c6ykuaM"
      },
      "outputs": [],
      "source": [
        "model = tfk.models.load_model(local_model)\n",
        "metrics_base = ['loss', 'Accuracy', 'auc', 'precision', 'recall', 'f1_score']\n",
        "metrics = history.history\n",
        "\n",
        "# Plotar as métricas de treinamento e validação\n",
        "for metric_name in metrics_base:\n",
        "    local_train_values = metrics[metric_name]\n",
        "    local_val_values = metrics['val_' + metric_name]  # Métrica de validação correspondente\n",
        "    plt.figure(figsize=(12, 8))\n",
        "    plt.plot(local_train_values, label='Train ' + metric_name.title(), lw = 0.85)\n",
        "    plt.plot(local_val_values, label='Validation ' + metric_name.title(), lw = 0.85)\n",
        "    plt.xlabel('Epochs')\n",
        "    plt.ylabel(metric_name.title() + ' Value')\n",
        "    plt.grid()\n",
        "    plt.legend(edgecolor = 'k')\n",
        "    plt.show()"
      ]
    },
    {
      "cell_type": "code",
      "source": [
        "y_pred_prob = model.predict(validation_generator)\n",
        "y_pred = np.argmax(y_pred_prob, axis=1)\n",
        "\n",
        "# Obter as classes reais:\n",
        "y_true = validation_generator.classes\n",
        "classes = validation_generator.class_indices\n",
        "cm = confusion_matrix(y_true, y_pred)\n",
        "\n",
        "fpr, tpr, thresholds = roc_curve(y_true, y_pred)\n",
        "\n",
        "roc_auc = auc(fpr, tpr)\n",
        "\n",
        "# ROC curve\n",
        "plt.figure(figsize=(8, 6))\n",
        "plt.plot(fpr, tpr, label=f'ROC curve, area = {np.round(roc_auc, 2)}', lw = 0.85)\n",
        "\n",
        "plt.plot([0, 1], [0, 1], 'k--', label = 'Random Classifier', lw = 0.85)  # Linha diagonal para referência\n",
        "plt.xlabel(r'False Positive Rate')\n",
        "plt.ylabel(r'True Positive Rate')\n",
        "plt.title(r'ROC Curve')\n",
        "plt.grid()\n",
        "plt.legend(loc='lower right', edgecolor = 'k')\n",
        "plt.show()\n",
        "\n",
        "# Confusion Matrix:\n",
        "plt.figure(figsize=(8, 8))\n",
        "ax = sns.heatmap(cm, annot=True, fmt='d', cmap='Blues', cbar=False, xticklabels=classes, yticklabels=classes)\n",
        "ax.set_frame_on(True)\n",
        "plt.title('Confusion Matrix')\n",
        "plt.xlabel('Predicted')\n",
        "plt.ylabel('True')\n",
        "plt.show()\n",
        "\n",
        "data = {\n",
        "  'Filename': validation_generator.filenames,\n",
        "  'Predicted Class': [list(classes.keys())[list(classes.values()).index(pred)] for pred in y_pred]\n",
        "}\n",
        "\n",
        "df = pd.DataFrame(data)\n",
        "df['Filename'] = df['Filename'].str.replace('soil/', '').str.replace('tree/', '')\n",
        "df = df.sort_values(by='Filename')\n",
        "df.to_csv(str(csv_dir) + f'/validation_{timestamp()}.csv', index=False)"
      ],
      "metadata": {
        "id": "QV-Web7rk8ZA"
      },
      "execution_count": null,
      "outputs": []
    },
    {
      "cell_type": "code",
      "source": [
        "y_true, y_pred = [], []\n",
        "\n",
        "for image_path in dataset_dir.glob(\"*.png\"):\n",
        "    # Carregando a imagem e redimensionando para o tamanho desejado\n",
        "    img = tfk.preprocessing.image.load_img(image_path, target_size=image_size)\n",
        "\n",
        "    # Convertendo a imagem para um array numpy\n",
        "    img_array = tfk.preprocessing.image.img_to_array(img)\n",
        "\n",
        "    # Pré-processamento da imagem usando o pré-processamento da VGG19\n",
        "    img_array = tfk.applications.vgg19.preprocess_input(img_array)\n",
        "\n",
        "    # Adicionando uma dimensão extra para a imagem (formato de lote)\n",
        "    img_array = np.expand_dims(img_array, axis=0)\n",
        "\n",
        "    # Fazendo a predição usando o modelo\n",
        "    prediction = model.predict(img_array)\n",
        "\n",
        "    # Convertendo a predição em um rótulo\n",
        "    predicted_label = np.argmax(prediction)\n",
        "\n",
        "    # Armazenando o rótulo verdadeiro e a predição\n",
        "    y_true.append(image_path.stem)\n",
        "    y_pred.append(predicted_label)"
      ],
      "metadata": {
        "id": "xwRfwq0Hk-Uv"
      },
      "execution_count": null,
      "outputs": []
    },
    {
      "cell_type": "code",
      "source": [
        "data = {'Filename': y_true, 'Predicted Class': y_pred}\n",
        "df = pd.DataFrame(data)\n",
        "\n",
        "df['Predicted Class'] = df['Predicted Class'].replace({0: 'soil', 1: 'tree'})\n",
        "df = df.sort_values(by='Filename')\n",
        "df.to_csv(str(csv_dir) + f'/dataset_{timestamp()}.csv', index=False)\n",
        "\n",
        "df['Predicted Class Filename'] = df['Filename'].str.split('_').str[-1].str.split('.').str[0]\n",
        "df['compatibility'] = df['Predicted Class Filename'] == df['Predicted Class']\n",
        "\n",
        "for class_name in classes.keys():\n",
        "  qnt = df['Filename'].str.contains(class_name).sum()\n",
        "  goalseek = (df['compatibility'] & (df['Predicted Class'] == class_name)).sum()\n",
        "  perc = goalseek / qnt * 100\n",
        "  print(f'{qnt} {class_name} samples.')\n",
        "  print(f'{goalseek} {class_name} predicted samples.')\n",
        "  print(f'{np.round(perc, 2)} % correct samples.')"
      ],
      "metadata": {
        "id": "LNagLVAmk--7"
      },
      "execution_count": null,
      "outputs": []
    }
  ]
}